{
 "cells": [
  {
   "cell_type": "code",
   "execution_count": 1,
   "metadata": {},
   "outputs": [],
   "source": [
    "# import modules\n",
    "%matplotlib notebook\n",
    "\n",
    "import numpy as np\n",
    "from  multiprocessing import Pool\n",
    "\n",
    "import matplotlib.pyplot as plt\n",
    "import matplotlib\n",
    "from cycler import cycler\n",
    "_colc = matplotlib.rcParams['axes.prop_cycle'].concat(cycler(color=['blue', 'black']))\n",
    "matplotlib.rcParams['font.size'] = 12\n",
    "matplotlib.rcParams['xtick.direction'] = 'in'\n",
    "matplotlib.rcParams['ytick.direction'] = 'in'"
   ]
  },
  {
   "cell_type": "code",
   "execution_count": 2,
   "metadata": {},
   "outputs": [
    {
     "name": "stdout",
     "output_type": "stream",
     "text": [
      "CPU times: user 4.69 ms, sys: 7.09 ms, total: 11.8 ms\n",
      "Wall time: 890 ms\n"
     ]
    }
   ],
   "source": [
    "%%time\n",
    "\n",
    "import chempl\n",
    "from chempl import (cs, run_one_model, get_total_charge,\n",
    "                    get_phy_params_default, N_H_to_Av, Av_to_N_H,\n",
    "                    N_H_to_ngas, Td_from_Av, chem2tex, printFormationDestruction)"
   ]
  },
  {
   "cell_type": "markdown",
   "metadata": {},
   "source": [
    "# define the solver\n",
    "\n",
    "Here it is called \"model\".  It acts as a solver."
   ]
  },
  {
   "cell_type": "code",
   "execution_count": 3,
   "metadata": {},
   "outputs": [
    {
     "name": "stdout",
     "output_type": "stream",
     "text": [
      "CPU times: user 168 ms, sys: 4.02 ms, total: 172 ms\n",
      "Wall time: 180 ms\n"
     ]
    }
   ],
   "source": [
    "%%time\n",
    "\n",
    "model = chempl.ChemModel(\n",
    "    fReactions=b'rate12_noSurf_only_H2_formation.dat',\n",
    "    fInitialAbundances=b'initial_abundances.dat').prepare().set_solver()"
   ]
  },
  {
   "cell_type": "markdown",
   "metadata": {},
   "source": [
    "# Load the default physical parameters"
   ]
  },
  {
   "cell_type": "code",
   "execution_count": 4,
   "metadata": {},
   "outputs": [],
   "source": [
    "phy_params = chempl.get_phy_params_default()"
   ]
  },
  {
   "cell_type": "markdown",
   "metadata": {},
   "source": [
    "# A simple single run"
   ]
  },
  {
   "cell_type": "code",
   "execution_count": 5,
   "metadata": {},
   "outputs": [
    {
     "name": "stdout",
     "output_type": "stream",
     "text": [
      "CPU times: user 2.76 s, sys: 19.8 ms, total: 2.78 s\n",
      "Wall time: 2.77 s\n"
     ]
    }
   ],
   "source": [
    "%%time\n",
    "\n",
    "t0 = 0.0\n",
    "dt = 1.0\n",
    "t_ratio = 1.1\n",
    "tmax_yr = 1e6\n",
    "nmax = 2000\n",
    "\n",
    "res = chempl.run_one_model(\n",
    "    p={'model_id': 0,\n",
    "       'y0': model.abundances,\n",
    "       't0': t0,\n",
    "       'dt0': dt,\n",
    "       't_ratio': t_ratio,\n",
    "       'tmax': tmax_yr*cs.phy_SecondsPerYear,\n",
    "       'nmax': nmax,\n",
    "       'phy_params': phy_params\n",
    "      },\n",
    "    model=model,\n",
    "    verbose=False\n",
    ")"
   ]
  },
  {
   "cell_type": "markdown",
   "metadata": {},
   "source": [
    "# Define a list of different physical parameter combinations"
   ]
  },
  {
   "cell_type": "code",
   "execution_count": 6,
   "metadata": {},
   "outputs": [],
   "source": [
    "n_s = np.logspace(3,5,num=16)\n",
    "phy_params_s = [{b'n_gas': n, b'T_gas': 20.0} for n in n_s]"
   ]
  },
  {
   "cell_type": "markdown",
   "metadata": {},
   "source": [
    "# Run multiple models one by one"
   ]
  },
  {
   "cell_type": "code",
   "execution_count": 7,
   "metadata": {},
   "outputs": [
    {
     "name": "stdout",
     "output_type": "stream",
     "text": [
      "CPU times: user 39.4 s, sys: 199 ms, total: 39.6 s\n",
      "Wall time: 39.4 s\n"
     ]
    }
   ],
   "source": [
    "%%time\n",
    "res0 = chempl.run_multiple_params_sequentially(\n",
    "    model=model, phy_params_s=phy_params_s, t0=t0, dt0=dt, t_ratio=t_ratio, tmax_yr=tmax_yr, nmax=2000)"
   ]
  },
  {
   "cell_type": "markdown",
   "metadata": {},
   "source": [
    "# The same, but ...\n",
    "\n",
    "using the final state of the previous one as the initial state of the next"
   ]
  },
  {
   "cell_type": "code",
   "execution_count": 8,
   "metadata": {},
   "outputs": [
    {
     "name": "stdout",
     "output_type": "stream",
     "text": [
      "CPU times: user 13.2 s, sys: 92.6 ms, total: 13.3 s\n",
      "Wall time: 13.2 s\n"
     ]
    }
   ],
   "source": [
    "%%time\n",
    "res0 = chempl.run_multiple_params_sequentially(follow=True,\n",
    "    model=model, phy_params_s=phy_params_s, t0=t0, dt0=dt, t_ratio=t_ratio, tmax_yr=tmax_yr, nmax=2000)"
   ]
  },
  {
   "cell_type": "markdown",
   "metadata": {},
   "source": [
    "# Try with multiprocessing"
   ]
  },
  {
   "cell_type": "code",
   "execution_count": 9,
   "metadata": {},
   "outputs": [],
   "source": [
    "def worker(p):\n",
    "    # Note that the \"model\" object must be global\n",
    "    t = p['t0']\n",
    "    dt = p['dt']\n",
    "    t_ratio = p['t_ratio']\n",
    "    nMax = p['nmax']\n",
    "    tMax = p['tmax']\n",
    "    \n",
    "    y = [_ for _ in p['y0']]\n",
    "    store = {'ts': [], 'ys': []}\n",
    "    model.set_solver(model_id=p['model_id'])\n",
    "    model.set_phy_params_by_dict(p['phy_params'])\n",
    "    for i in range(nMax):\n",
    "        t, y = model.update(y, t=t, dt=dt, verbose=p.get('verbose'))\n",
    "        store['ts'].append(t)\n",
    "        store['ys'].append(y)\n",
    "        if t >= tMax:\n",
    "            break\n",
    "        dt = dt * t_ratio\n",
    "        if t+dt > tMax:\n",
    "            dt = tMax - t\n",
    "    return store"
   ]
  },
  {
   "cell_type": "code",
   "execution_count": 10,
   "metadata": {},
   "outputs": [],
   "source": [
    "from multiprocessing import Pool\n",
    "pool = Pool(4)"
   ]
  },
  {
   "cell_type": "code",
   "execution_count": 11,
   "metadata": {},
   "outputs": [
    {
     "name": "stdout",
     "output_type": "stream",
     "text": [
      "CPU times: user 143 ms, sys: 64.6 ms, total: 207 ms\n",
      "Wall time: 13 s\n"
     ]
    }
   ],
   "source": [
    "%%time\n",
    "\n",
    "p_s = [{'model_id': i,\n",
    "        'y0': model.abundances,\n",
    "        't0': t0,\n",
    "        'dt': dt,\n",
    "        't_ratio': t_ratio,\n",
    "        'tmax': tmax_yr*cs.phy_SecondsPerYear,\n",
    "        'nmax': nmax,\n",
    "        'phy_params': pps,\n",
    "        'verbose': False,\n",
    "      } for (i,pps) in enumerate(phy_params_s)]\n",
    "\n",
    "res1 = pool.map(worker, p_s)"
   ]
  },
  {
   "cell_type": "code",
   "execution_count": 12,
   "metadata": {},
   "outputs": [
    {
     "data": {
      "text/plain": [
       "[False,\n",
       " True,\n",
       " True,\n",
       " True,\n",
       " True,\n",
       " True,\n",
       " True,\n",
       " True,\n",
       " True,\n",
       " True,\n",
       " True,\n",
       " True,\n",
       " True,\n",
       " True,\n",
       " True,\n",
       " True]"
      ]
     },
     "execution_count": 12,
     "metadata": {},
     "output_type": "execute_result"
    }
   ],
   "source": [
    "# The results should be the same from sequential or parallel runs\n",
    "\n",
    "[np.any(np.array(s0['ys'])-np.array(s1['ys'])) for s0,s1 in zip(res0, res1)]"
   ]
  },
  {
   "cell_type": "code",
   "execution_count": null,
   "metadata": {},
   "outputs": [],
   "source": []
  }
 ],
 "metadata": {
  "kernelspec": {
   "display_name": "Python 3",
   "language": "python",
   "name": "python3"
  },
  "language_info": {
   "codemirror_mode": {
    "name": "ipython",
    "version": 3
   },
   "file_extension": ".py",
   "mimetype": "text/x-python",
   "name": "python",
   "nbconvert_exporter": "python",
   "pygments_lexer": "ipython3",
   "version": "3.7.7"
  },
  "toc": {
   "base_numbering": 1,
   "nav_menu": {},
   "number_sections": true,
   "sideBar": false,
   "skip_h1_title": false,
   "title_cell": "Table of Contents",
   "title_sidebar": "Contents",
   "toc_cell": false,
   "toc_position": {},
   "toc_section_display": true,
   "toc_window_display": false
  }
 },
 "nbformat": 4,
 "nbformat_minor": 4
}
